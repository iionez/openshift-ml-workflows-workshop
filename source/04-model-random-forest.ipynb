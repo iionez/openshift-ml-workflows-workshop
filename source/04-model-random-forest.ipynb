{
 "cells": [
  {
   "cell_type": "markdown",
   "metadata": {},
   "source": [
    "# Background\n",
    "\n",
    "Perhaps you've played [Twenty Questions](https://en.wikipedia.org/wiki/Twenty_Questions) before:  it's a game where one player (the *answerer*) thinks of a person, place, or thing, and other players ask yes-or-no questions to guess the object of the answerer's thoughts.  Since the answerer probably knows about a lot of different people and objects, a good strategy for the other players involves devising questions that reduce the space of possible answers as much as possible no matter how they are answered.  \n",
    "\n",
    "Given a labeled collection of examples, you might imagine a technique to [learn a *decision tree*](https://en.wikipedia.org/wiki/Decision_tree_learning) of questions to classify these examples by asking as few questions as possible.  However, you might imagine that such a technique would necessarily be quite dependent on the exact examples on offer.  (In other words,  these techniques are prone to *overfitting*.)  As a simple illustration,  consider the case where your set of example objects was `{ 'ant', 'elephant'}`.  In this case, the question \"is it smaller than a typical adult human\" would enable you to differentiate between examples optimally.   However, that question would be useless if our set of example objects was the set of all domesticated dog breeds.\n",
    "\n",
    "[Random decision forest models](https://en.wikipedia.org/wiki/Random_forest) work by training an *ensemble* of imprecise decision trees that only consider subsets of features or examples and then aggregating the results from the ensemble.  By learning and aggregating an ensemble of trees, random decision forests can be more accurate than individual decision trees *and* are less likely to overfit.  In this notebook, we'll use a random decision forest to classify documents as either \"spam\" (based on food reviews) or \"legitimate\" (based on Jane Austen).\n",
    "\n",
    "We'll begin by loading in the feature vectors which we generated in either [the simple summaries feature extraction notebook](03-feature-engineering-summaries.ipynb) or [the TF-IDF feature extraction notebook](03-feature-engineering-tfidf.ipynb). "
   ]
  },
  {
   "cell_type": "code",
   "execution_count": 1,
   "metadata": {},
   "outputs": [],
   "source": [
    "import pandas as pd\n",
    "import os.path\n",
    "\n",
    "features = pd.read_parquet(os.path.join(\"data\", \"features.parquet\"))"
   ]
  },
  {
   "cell_type": "markdown",
   "metadata": {},
   "source": [
    "When doing exploratory analysis, it's often a good idea to inspect your data as a sanity check.  In this case, we'll make sure that the feature vectors we generated in the last notebook have the shape we expect!"
   ]
  },
  {
   "cell_type": "code",
   "execution_count": 2,
   "metadata": {},
   "outputs": [
    {
     "data": {
      "text/html": [
       "<div>\n",
       "<style scoped>\n",
       "    .dataframe tbody tr th:only-of-type {\n",
       "        vertical-align: middle;\n",
       "    }\n",
       "\n",
       "    .dataframe tbody tr th {\n",
       "        vertical-align: top;\n",
       "    }\n",
       "\n",
       "    .dataframe thead th {\n",
       "        text-align: right;\n",
       "    }\n",
       "</style>\n",
       "<table border=\"1\" class=\"dataframe\">\n",
       "  <thead>\n",
       "    <tr style=\"text-align: right;\">\n",
       "      <th></th>\n",
       "      <th>index</th>\n",
       "      <th>label</th>\n",
       "      <th>0</th>\n",
       "      <th>1</th>\n",
       "      <th>2</th>\n",
       "      <th>3</th>\n",
       "      <th>4</th>\n",
       "      <th>5</th>\n",
       "      <th>6</th>\n",
       "      <th>7</th>\n",
       "      <th>...</th>\n",
       "      <th>1014</th>\n",
       "      <th>1015</th>\n",
       "      <th>1016</th>\n",
       "      <th>1017</th>\n",
       "      <th>1018</th>\n",
       "      <th>1019</th>\n",
       "      <th>1020</th>\n",
       "      <th>1021</th>\n",
       "      <th>1022</th>\n",
       "      <th>1023</th>\n",
       "    </tr>\n",
       "  </thead>\n",
       "  <tbody>\n",
       "    <tr>\n",
       "      <th>20175</th>\n",
       "      <td>175</td>\n",
       "      <td>spam</td>\n",
       "      <td>0.0</td>\n",
       "      <td>0.161485</td>\n",
       "      <td>0.0</td>\n",
       "      <td>0.0</td>\n",
       "      <td>0.0</td>\n",
       "      <td>0.0</td>\n",
       "      <td>0.0</td>\n",
       "      <td>0.0</td>\n",
       "      <td>...</td>\n",
       "      <td>0.0</td>\n",
       "      <td>0.0</td>\n",
       "      <td>0.150734</td>\n",
       "      <td>0.0</td>\n",
       "      <td>0.0</td>\n",
       "      <td>0.0</td>\n",
       "      <td>0.0</td>\n",
       "      <td>0.0</td>\n",
       "      <td>0.0</td>\n",
       "      <td>0.0</td>\n",
       "    </tr>\n",
       "    <tr>\n",
       "      <th>21284</th>\n",
       "      <td>1284</td>\n",
       "      <td>spam</td>\n",
       "      <td>0.0</td>\n",
       "      <td>0.000000</td>\n",
       "      <td>0.0</td>\n",
       "      <td>0.0</td>\n",
       "      <td>0.0</td>\n",
       "      <td>0.0</td>\n",
       "      <td>0.0</td>\n",
       "      <td>0.0</td>\n",
       "      <td>...</td>\n",
       "      <td>0.0</td>\n",
       "      <td>0.0</td>\n",
       "      <td>0.000000</td>\n",
       "      <td>0.0</td>\n",
       "      <td>0.0</td>\n",
       "      <td>0.0</td>\n",
       "      <td>0.0</td>\n",
       "      <td>0.0</td>\n",
       "      <td>0.0</td>\n",
       "      <td>0.0</td>\n",
       "    </tr>\n",
       "    <tr>\n",
       "      <th>30341</th>\n",
       "      <td>10341</td>\n",
       "      <td>spam</td>\n",
       "      <td>0.0</td>\n",
       "      <td>0.000000</td>\n",
       "      <td>0.0</td>\n",
       "      <td>0.0</td>\n",
       "      <td>0.0</td>\n",
       "      <td>0.0</td>\n",
       "      <td>0.0</td>\n",
       "      <td>0.0</td>\n",
       "      <td>...</td>\n",
       "      <td>0.0</td>\n",
       "      <td>0.0</td>\n",
       "      <td>0.000000</td>\n",
       "      <td>0.0</td>\n",
       "      <td>0.0</td>\n",
       "      <td>0.0</td>\n",
       "      <td>0.0</td>\n",
       "      <td>0.0</td>\n",
       "      <td>0.0</td>\n",
       "      <td>0.0</td>\n",
       "    </tr>\n",
       "    <tr>\n",
       "      <th>20141</th>\n",
       "      <td>141</td>\n",
       "      <td>spam</td>\n",
       "      <td>0.0</td>\n",
       "      <td>0.000000</td>\n",
       "      <td>0.0</td>\n",
       "      <td>0.0</td>\n",
       "      <td>0.0</td>\n",
       "      <td>0.0</td>\n",
       "      <td>0.0</td>\n",
       "      <td>0.0</td>\n",
       "      <td>...</td>\n",
       "      <td>0.0</td>\n",
       "      <td>0.0</td>\n",
       "      <td>0.000000</td>\n",
       "      <td>0.0</td>\n",
       "      <td>0.0</td>\n",
       "      <td>0.0</td>\n",
       "      <td>0.0</td>\n",
       "      <td>0.0</td>\n",
       "      <td>0.0</td>\n",
       "      <td>0.0</td>\n",
       "    </tr>\n",
       "    <tr>\n",
       "      <th>19016</th>\n",
       "      <td>19016</td>\n",
       "      <td>legitimate</td>\n",
       "      <td>0.0</td>\n",
       "      <td>0.000000</td>\n",
       "      <td>0.0</td>\n",
       "      <td>0.0</td>\n",
       "      <td>0.0</td>\n",
       "      <td>0.0</td>\n",
       "      <td>0.0</td>\n",
       "      <td>0.0</td>\n",
       "      <td>...</td>\n",
       "      <td>0.0</td>\n",
       "      <td>0.0</td>\n",
       "      <td>0.000000</td>\n",
       "      <td>0.0</td>\n",
       "      <td>0.0</td>\n",
       "      <td>0.0</td>\n",
       "      <td>0.0</td>\n",
       "      <td>0.0</td>\n",
       "      <td>0.0</td>\n",
       "      <td>0.0</td>\n",
       "    </tr>\n",
       "  </tbody>\n",
       "</table>\n",
       "<p>5 rows × 1026 columns</p>\n",
       "</div>"
      ],
      "text/plain": [
       "       index       label    0         1    2    3    4    5    6    7  ...  \\\n",
       "20175    175        spam  0.0  0.161485  0.0  0.0  0.0  0.0  0.0  0.0  ...   \n",
       "21284   1284        spam  0.0  0.000000  0.0  0.0  0.0  0.0  0.0  0.0  ...   \n",
       "30341  10341        spam  0.0  0.000000  0.0  0.0  0.0  0.0  0.0  0.0  ...   \n",
       "20141    141        spam  0.0  0.000000  0.0  0.0  0.0  0.0  0.0  0.0  ...   \n",
       "19016  19016  legitimate  0.0  0.000000  0.0  0.0  0.0  0.0  0.0  0.0  ...   \n",
       "\n",
       "       1014  1015      1016  1017  1018  1019  1020  1021  1022  1023  \n",
       "20175   0.0   0.0  0.150734   0.0   0.0   0.0   0.0   0.0   0.0   0.0  \n",
       "21284   0.0   0.0  0.000000   0.0   0.0   0.0   0.0   0.0   0.0   0.0  \n",
       "30341   0.0   0.0  0.000000   0.0   0.0   0.0   0.0   0.0   0.0   0.0  \n",
       "20141   0.0   0.0  0.000000   0.0   0.0   0.0   0.0   0.0   0.0   0.0  \n",
       "19016   0.0   0.0  0.000000   0.0   0.0   0.0   0.0   0.0   0.0   0.0  \n",
       "\n",
       "[5 rows x 1026 columns]"
      ]
     },
     "execution_count": 2,
     "metadata": {},
     "output_type": "execute_result"
    }
   ],
   "source": [
    "features.sample(5)"
   ]
  },
  {
   "cell_type": "code",
   "execution_count": 3,
   "metadata": {
    "scrolled": true
   },
   "outputs": [],
   "source": [
    "from sklearn.ensemble import RandomForestClassifier\n",
    "from sklearn import model_selection\n",
    "\n",
    "train, test = model_selection.train_test_split(features)\n",
    "\n",
    "rfc = RandomForestClassifier(n_estimators=25, random_state=404)"
   ]
  },
  {
   "cell_type": "code",
   "execution_count": 4,
   "metadata": {},
   "outputs": [
    {
     "data": {
      "text/plain": [
       "RandomForestClassifier(n_estimators=25, random_state=404)"
      ]
     },
     "execution_count": 4,
     "metadata": {},
     "output_type": "execute_result"
    }
   ],
   "source": [
    "MAX_FEATURES=512\n",
    "rfc.fit(X=train.iloc[:,2:train.shape[1]], y=train[\"label\"])"
   ]
  },
  {
   "cell_type": "code",
   "execution_count": 5,
   "metadata": {},
   "outputs": [],
   "source": [
    "from mlworkflows import plot\n",
    "\n",
    "predictions = rfc.predict(test.iloc[:,2:train.shape[1]])\n",
    "df, chart = plot.binary_confusion_matrix(test[\"label\"], predictions)"
   ]
  },
  {
   "cell_type": "code",
   "execution_count": 6,
   "metadata": {},
   "outputs": [
    {
     "data": {
      "text/html": [
       "\n",
       "<div id=\"altair-viz-4a6fde1396c34e30b5282d087ab9e4f1\"></div>\n",
       "<script type=\"text/javascript\">\n",
       "  (function(spec, embedOpt){\n",
       "    let outputDiv = document.currentScript.previousElementSibling;\n",
       "    if (outputDiv.id !== \"altair-viz-4a6fde1396c34e30b5282d087ab9e4f1\") {\n",
       "      outputDiv = document.getElementById(\"altair-viz-4a6fde1396c34e30b5282d087ab9e4f1\");\n",
       "    }\n",
       "    const paths = {\n",
       "      \"vega\": \"https://cdn.jsdelivr.net/npm//vega@5?noext\",\n",
       "      \"vega-lib\": \"https://cdn.jsdelivr.net/npm//vega-lib?noext\",\n",
       "      \"vega-lite\": \"https://cdn.jsdelivr.net/npm//vega-lite@4.8.1?noext\",\n",
       "      \"vega-embed\": \"https://cdn.jsdelivr.net/npm//vega-embed@6?noext\",\n",
       "    };\n",
       "\n",
       "    function loadScript(lib) {\n",
       "      return new Promise(function(resolve, reject) {\n",
       "        var s = document.createElement('script');\n",
       "        s.src = paths[lib];\n",
       "        s.async = true;\n",
       "        s.onload = () => resolve(paths[lib]);\n",
       "        s.onerror = () => reject(`Error loading script: ${paths[lib]}`);\n",
       "        document.getElementsByTagName(\"head\")[0].appendChild(s);\n",
       "      });\n",
       "    }\n",
       "\n",
       "    function showError(err) {\n",
       "      outputDiv.innerHTML = `<div class=\"error\" style=\"color:red;\">${err}</div>`;\n",
       "      throw err;\n",
       "    }\n",
       "\n",
       "    function displayChart(vegaEmbed) {\n",
       "      vegaEmbed(outputDiv, spec, embedOpt)\n",
       "        .catch(err => showError(`Javascript Error: ${err.message}<br>This usually means there's a typo in your chart specification. See the javascript console for the full traceback.`));\n",
       "    }\n",
       "\n",
       "    if(typeof define === \"function\" && define.amd) {\n",
       "      requirejs.config({paths});\n",
       "      require([\"vega-embed\"], displayChart, err => showError(`Error loading script: ${err.message}`));\n",
       "    } else if (typeof vegaEmbed === \"function\") {\n",
       "      displayChart(vegaEmbed);\n",
       "    } else {\n",
       "      loadScript(\"vega\")\n",
       "        .then(() => loadScript(\"vega-lite\"))\n",
       "        .then(() => loadScript(\"vega-embed\"))\n",
       "        .catch(showError)\n",
       "        .then(() => displayChart(vegaEmbed));\n",
       "    }\n",
       "  })({\"config\": {\"view\": {\"continuousWidth\": 400, \"continuousHeight\": 300}}, \"data\": {\"name\": \"data-afc9bdb2550dc14602e17e7a96229329\"}, \"mark\": \"rect\", \"encoding\": {\"color\": {\"type\": \"quantitative\", \"field\": \"value\"}, \"tooltip\": [{\"type\": \"quantitative\", \"field\": \"raw_count\"}], \"x\": {\"type\": \"ordinal\", \"field\": \"predicted\"}, \"y\": {\"type\": \"ordinal\", \"field\": \"actual\"}}, \"height\": 215, \"width\": 215, \"$schema\": \"https://vega.github.io/schema/vega-lite/v4.8.1.json\", \"datasets\": {\"data-afc9bdb2550dc14602e17e7a96229329\": [{\"predicted\": \"legitimate\", \"actual\": \"legitimate\", \"raw_count\": 4542, \"value\": 0.9138832997987928}, {\"predicted\": \"legitimate\", \"actual\": \"spam\", \"raw_count\": 428, \"value\": 0.08611670020120725}, {\"predicted\": \"spam\", \"actual\": \"legitimate\", \"raw_count\": 250, \"value\": 0.04970178926441352}, {\"predicted\": \"spam\", \"actual\": \"spam\", \"raw_count\": 4780, \"value\": 0.9502982107355865}]}}, {\"mode\": \"vega-lite\"});\n",
       "</script>"
      ],
      "text/plain": [
       "alt.Chart(...)"
      ]
     },
     "execution_count": 6,
     "metadata": {},
     "output_type": "execute_result"
    }
   ],
   "source": [
    "chart"
   ]
  },
  {
   "cell_type": "markdown",
   "metadata": {},
   "source": [
    "We can look at the raw numbers, and proportions of correctly and incorrectly classified items: "
   ]
  },
  {
   "cell_type": "code",
   "execution_count": 7,
   "metadata": {},
   "outputs": [
    {
     "data": {
      "text/html": [
       "<div>\n",
       "<style scoped>\n",
       "    .dataframe tbody tr th:only-of-type {\n",
       "        vertical-align: middle;\n",
       "    }\n",
       "\n",
       "    .dataframe tbody tr th {\n",
       "        vertical-align: top;\n",
       "    }\n",
       "\n",
       "    .dataframe thead th {\n",
       "        text-align: right;\n",
       "    }\n",
       "</style>\n",
       "<table border=\"1\" class=\"dataframe\">\n",
       "  <thead>\n",
       "    <tr style=\"text-align: right;\">\n",
       "      <th></th>\n",
       "      <th>predicted</th>\n",
       "      <th>actual</th>\n",
       "      <th>raw_count</th>\n",
       "      <th>value</th>\n",
       "    </tr>\n",
       "  </thead>\n",
       "  <tbody>\n",
       "    <tr>\n",
       "      <th>0</th>\n",
       "      <td>legitimate</td>\n",
       "      <td>legitimate</td>\n",
       "      <td>4542</td>\n",
       "      <td>0.913883</td>\n",
       "    </tr>\n",
       "    <tr>\n",
       "      <th>1</th>\n",
       "      <td>legitimate</td>\n",
       "      <td>spam</td>\n",
       "      <td>428</td>\n",
       "      <td>0.086117</td>\n",
       "    </tr>\n",
       "    <tr>\n",
       "      <th>2</th>\n",
       "      <td>spam</td>\n",
       "      <td>legitimate</td>\n",
       "      <td>250</td>\n",
       "      <td>0.049702</td>\n",
       "    </tr>\n",
       "    <tr>\n",
       "      <th>3</th>\n",
       "      <td>spam</td>\n",
       "      <td>spam</td>\n",
       "      <td>4780</td>\n",
       "      <td>0.950298</td>\n",
       "    </tr>\n",
       "  </tbody>\n",
       "</table>\n",
       "</div>"
      ],
      "text/plain": [
       "    predicted      actual  raw_count     value\n",
       "0  legitimate  legitimate       4542  0.913883\n",
       "1  legitimate        spam        428  0.086117\n",
       "2        spam  legitimate        250  0.049702\n",
       "3        spam        spam       4780  0.950298"
      ]
     },
     "execution_count": 7,
     "metadata": {},
     "output_type": "execute_result"
    }
   ],
   "source": [
    "df"
   ]
  },
  {
   "cell_type": "markdown",
   "metadata": {},
   "source": [
    "We can also look at the precision, recall and f1-score for the model. "
   ]
  },
  {
   "cell_type": "code",
   "execution_count": 8,
   "metadata": {},
   "outputs": [
    {
     "name": "stdout",
     "output_type": "stream",
     "text": [
      "              precision    recall  f1-score   support\n",
      "\n",
      "  legitimate       0.95      0.91      0.93      4970\n",
      "        spam       0.92      0.95      0.93      5030\n",
      "\n",
      "    accuracy                           0.93     10000\n",
      "   macro avg       0.93      0.93      0.93     10000\n",
      "weighted avg       0.93      0.93      0.93     10000\n",
      "\n"
     ]
    }
   ],
   "source": [
    "from sklearn.metrics import classification_report\n",
    "print(classification_report(test.label.values, predictions))"
   ]
  },
  {
   "cell_type": "markdown",
   "metadata": {},
   "source": [
    "One interesting aspect of random decision forests is that they provide a metric for how important each feature was to the ultimate conclusion.  This is a useful property both for having *explainable models* (i.e., so you can explain to a human why the model made a particular prediction) and for guiding further experiments (i.e., so you can learn more about the real world based on what the model has identified as likely to be correlated with what you're trying to predict)."
   ]
  },
  {
   "cell_type": "code",
   "execution_count": 9,
   "metadata": {},
   "outputs": [],
   "source": [
    "l = list(enumerate(rfc.feature_importances_))"
   ]
  },
  {
   "cell_type": "code",
   "execution_count": 10,
   "metadata": {},
   "outputs": [
    {
     "data": {
      "text/plain": [
       "[(228, 0.09895571491026749),\n",
       " (749, 0.031084276988489718),\n",
       " (259, 0.03034917385164401),\n",
       " (78, 0.026021051722259863),\n",
       " (797, 0.02584718519805893),\n",
       " (913, 0.024239987988204263),\n",
       " (182, 0.023059202590317813),\n",
       " (365, 0.02002215103848476),\n",
       " (512, 0.01910817571913064),\n",
       " (260, 0.019095352500576236),\n",
       " (360, 0.017015115537936904),\n",
       " (895, 0.012196456030131371),\n",
       " (300, 0.012187019718432073),\n",
       " (894, 0.01196337979652689),\n",
       " (384, 0.011103519906598577),\n",
       " (710, 0.010219773390701363),\n",
       " (532, 0.009615495454590776),\n",
       " (162, 0.009564889097774889),\n",
       " (118, 0.008634825288291013),\n",
       " (1003, 0.008313434879802224)]"
      ]
     },
     "execution_count": 10,
     "metadata": {},
     "output_type": "execute_result"
    }
   ],
   "source": [
    "l.sort(key=lambda x: -x[1])\n",
    "l[:20]"
   ]
  },
  {
   "cell_type": "markdown",
   "metadata": {},
   "source": [
    "What these features actually *mean* depends on which feature engineering approach you chose in the last notebook.  In the case of the simple summaries approach, it's fairly straightforward -- we can just take the column names:"
   ]
  },
  {
   "cell_type": "code",
   "execution_count": 11,
   "metadata": {},
   "outputs": [],
   "source": [
    "if len(l) < 20:\n",
    "    # the simple summaries have fewer than 20 features\n",
    "    d = dict(enumerate(train.columns[2:]))\n",
    "    for k, v in l[:20]:\n",
    "        print(d[k], v)"
   ]
  },
  {
   "cell_type": "markdown",
   "metadata": {},
   "source": [
    "If you used the simple summaries approach, you'll probably see that `stop_words` is the most important feature.\n",
    "\n",
    "If you used the tf-idf approach, the preceding cell shouldn't have produced any output and we'll need a more involved approach.  Recall that we used [feature hashing](https://en.wikipedia.org/wiki/Feature_hashing) for the tf-idf feature vectors.  Feature hashing has many benefits, but one of the downsides is that hashing is one-way -- we can't go from the entry in the feature vector to the word that produced it.  However, we can do a little extra work to try and reconstruct the words that _might_ have produced such a vector.\n",
    "\n",
    "The size of our feature vectors is smaller than the number of words we might have seen in our corpus of documents, [which means that more than one word will be represented by counts in a given bucket](https://en.wikipedia.org/wiki/Pigeonhole_principle).  But we can construct a list of the words that may have mapped to each bucket by getting a vocabulary for our document corpus and then hashing each word, which we can use to identify which words _may_ have corresponded to the most important features."
   ]
  },
  {
   "cell_type": "code",
   "execution_count": 12,
   "metadata": {},
   "outputs": [
    {
     "name": "stdout",
     "output_type": "stream",
     "text": [
      "['honour', 'most', 'sunflower', 'silence', 'deprived', 'explore', 'fourteen', 'burger', 'environment', 'tested', 'uske', 'un', 'paced', 'madeira', 'gental', 'fulls', 'harmonised', 'apeice', 'bets', 'admonitions', 'mantienen', 'dragonwell', 'fresca', 'heimlich', 'han', 'accusing', 'untested', 'countertop', 'durham', 'sunrise', 'rushmore', 'willow', 'permeatedthe', 'minsthe', 'machince'] 0.09895571491026749\n",
      "['she', 'calcium', 'shut', 'constancy', 'explanation', 'wink', 'wandered', 'clair', 'shots', 'fiftieth', 'effective', 'archbishop', 'destined', 'trail', 'cravings', 'commodious', 'drool', 'grossed', 'crediting', 'tardiness', 'khaki', 'dissimulation', 'nanner', 'amiably', 'certainlyorder', 'unimpressive', 'endicott', 'wwii', 'clutch', 'adulterated', 'turtlenecks', 'cipriani', 'busses', 'probado', 'patented', 'unfilling'] 0.031084276988489718\n",
      "['he', 'imaginary', 'advisable', 'complain', 'separation', 'meeting', 'blue', 'wretched', 'faded', 'morrows', 'seduced', 'rested', 'deceptive', 'flawness', 'concessions', 'combat', 'iniquity', 'shea', 'tbs', 'relenting', 'retrievers', 'horde', 'whiskey', 'weim', 'caters', 'waruva', 'gullible', 'optimal', 'protability', 'smash', 'db', 'nearlyas', 'endorsed', 'tailgate', 'artic', 'onem', 'bargin', 'colombians', 'htm', 'fabricate'] 0.03034917385164401\n",
      "['this', 'expression', 'coffees', 'according', 'curtsying', 'fyi', 'grittiness', 'replaces', 'simular', 'fibrous', 'imitation', 'refundable', 'julias', 'springer', 'disappered', 'maillard', 'surfaces', 'participated', 'goldish', 'shippied', 'texturey', 'lungo', 'deem', 'blissfully', 'atticus', 'enclave'] 0.026021051722259863\n",
      "['eagerly', 'dies', 'gladly', 'sellers', 'demanded', 'serviceable', 'formally', 'zwieback', 'lungs', 'wooden', 'nausea', 'actuated', 'stupefied', 'hatred', 'kasupski', 'governance', 'lingers', 'statin', 'felicitations', 'pressings', 'localgrocery', 'hulled', 'chester', 'rooters', 'exhilarating', 'cansi', 'deluca', 'everyonce', 'agile', 'pathogenic', 'imrovmenet'] 0.02584718519805893\n",
      "['was', 'chuse', 'ziplock', 'fit', 'contented', 'proportioned', 'poiund', 'marzano', 'sawdust', 'rounded', 'afflicted', 'snaps', 'mylar', 'chearfull', 'denote', 'occassions', 'culled', 'conscientiously', 'clandestinely', 'zone', 'ostentatious', 'wonted', 'ozzie', 'attest', 'mishaps', 'cannisters', 'alkylamides', 'nanaimo', 'degermed', 'penquin', 'commode', 'noxious', 'kadhi', 'roster', 'rewritten', 'angiogenesis', 'shatila'] 0.024239987988204263\n",
      "['these', 'don', 'toward', 'periods', 'mach', 'glowing', 'neglect', 'sickly', 'undistinguished', 'backed', 'wildenheim', 'lou', 'phillipses', 'sweethearts', 'unchecked', 'uproar', 'swallows', 'touph', 'wire', 'calibrated', 'twigs', 'notices', 'hourglass', 'bokar', 'tr8752', 'joanne', 'unenjoyable', 'vinny', 'latches'] 0.023059202590317813\n",
      "['is', 'hair', 'steele', 'culture', 'rejected', 'distinct', 'degraded', 'addicting', 'diversities', 'acutally', 'flatters', 'alps', 'propylene', 'liquibuy', 'fluoridated', 'supersede', 'gyn', 'artichoke', 'spick', 'fingernail', 'eiermann', 'matching', 'groundhogs', 'equivalence', 'abnormal', 'lube', 'nurtri', 'throughamazon', 'persistant', 'securly', 'dietrich'] 0.02002215103848476\n",
      "['sure', 'his', 'put', 'none', 'pyure', 'men', 'mickleham', 'repaid', 'hampshire', 'brown', 'zero', 'shropshire', 'interests', 'orthography', 'metaphor', 'unemployed', 'greed', 'employing', 'simpathy', 'rending', 'cranachan', 'telephone', 'bronchipret', 'extremly', 'withtheir', 'tinny', 'cardia', 'epcot', 'scalding', 'nutricious', 'sham', 'extensions'] 0.01910817571913064\n",
      "['awakened', 'drenched', 'courteously', 'gp', 'rustled', 'owning', 'quotation', 'commissary', 'gyokuros', 'attracts', 'scads', 'slowing', 'unbfortuntately', 'vandervort', 'tupperware', 'impacts', 'ideabasically', 'redi', 'forethought', 'flavos', 'challange', 'slung'] 0.019095352500576236\n",
      "['happen', 'seymour', 'shifts', 'smart', 'convictions', 'talent', 'heavily', 'brief', 'signet', 'clearly', 'walden', 'peel', 'discontents', 'reveiw', 'covers', 'domesticated', 'untimely', 'gigngerbread', 'nowadays', 'exited', 'infamil', 'thrived', 'on9', 'weening', 'kmart', 'pica', 'matt', 'montmorency', 'flavorabe', 'dysplasia', 'bagtwo', 'globs', 'marshalls', 'eneril', 'thinkof'] 0.017015115537936904\n",
      "['winthrop', 'falcoln', 'exterior', 'confidant', 'specialty', 'contentedly', 'miserably', 'cautions', 'rotisserie', 'gummi', 'floating', 'wearying', 'housemaid', 'recurrences', 'kindergarten', 'disobedient', 'eliminates', 'artfully', 'frazzles', 'accidents', 'defies', 'soliciting', 'cam', 'forbids', 'probing', 'diatribe', 'recetas', 'scattering', 'macabee'] 0.012196456030131371\n",
      "['of', 'worldly', 'reaped', 'victuals', 'war', 'appetites', 'inflicting', 'geography', 'unthought', 'tumbler', 'potassium', 'doctoring', 'intervening', 'sport', 'scheming', 'dissapointing', 'antioxidants', 'ps', 'sqeeze', 'enormous', 'plasma', 'yeomanry', 'gripes', 'leaching', 'circumventing', 'contacts', 'dirnks', 'appel', 'clarity', 'ocassional', 'infringing', 'bg', 'ediblei', 'gauge', 'expertly', 'studding', 'increments', 'whirlwind', 'notation', 'mound', 'premake'] 0.012187019718432073\n",
      "['remarkable', 'elsewhere', 'hysterical', 'discussion', 'rooke', 'resonably', 'simpler', 'diaphoretics', 'dawned', 'provocation', 'canvas', 'biscuts', 'needy', 'unquestionable', 'fashions', 'irritability', 'unsweet', 'sebhorriac', 'lopsided', 'swings', 'metric', 'takers', 'sadistic', 'fu', 'happend', 'grueling', 'backpacks', 'averaging', 'seborrheic', 'blandest', 'uck'] 0.01196337979652689\n",
      "['waste', 'arising', 'semi', 'boots', 'repetition', 'bow', 'strip', 'mouths', 'melted', 'girlfriend', 'zaatar', 'management', 'orphan', 'revered', 'sneaky', 'partly', 'richness', 'ferrara', 'gossiping', 'frailty', 'wherewith', 'hario', 'consummate', 'pips', 'smearing', 'grained', 'scientists', 'assuredly', 'nab', 'verrrry', 'changs', 'seca', 'agar', 'surgeries', 'maizy', 'purifiers'] 0.011103519906598577\n",
      "['wasn', 'physician', 'aunts', 'masters', 'cinnamon', 'grievance', 'protein', 'horsewoman', 'tells', 'disapprove', 'promising', 'obtruded', 'sucking', 'africa', 'marinades', 'bourbon', 'gapes', 'pickles', 'deputation', 'pretzle', 'baffled', 'sorbate', 'oro', 'pomagranates', 'arable', 'cooke', 'wuyi', 'asset'] 0.010219773390701363\n",
      "['intelligent', 'our', 'lydia', 'order', 'image', 'content', 'scotland', 'informed', 'ladyship', 'convent', 'mart', 'discontinued', 'elmo', 'artifice', 'machines', 'inheritress', 'retrace', 'walcot', 'mule', 'tikicat', 'stephen', 'greatcoats', 'debole', 'triplets', 'whirled', 'nabbed'] 0.009615495454590776\n",
      "['absence', 'matrimony', 'conviction', 'chimney', 'resemblance', 'kraft', 'toffee', 'development', 'reckoning', 'betty', 'unforeseen', 'ff', 'ungentlemanlike', 'yada', 'poetry', 'unsatisfactory', 'rainbow', 'grandsons', 'usda', 'finances', 'banna', 'unparalleled', 'almondac', 'mythical', 'outhouse', 'strapping', 'goodknowing', 'sourcedoes', 'brie', 'bactine'] 0.009564889097774889\n",
      "['food', 'cows', 'small', 'cuts', 'wash', 'laconia', 'blade', 'janet', 'mirin', 'park_', 'chipotle', 'bragg', 'exposure', 'stuffing', 'magistrate', 'expatiated', 'moisturizing', 'wildflower', 'expresses', 'reviewd', 'unethical', 'shortage', 'coon', 'buble', 'bambi', 'wingaling', 'emm', 'deathbed', 'filiz', 'engineer', 'stretches', 'overfilled', 'mimicao', 'squeezes', 'timeyou', 'motel', 'wildernes'] 0.008634825288291013\n",
      "['shew', 'delicately', 'parts', 'ourselves', 'bits', 'recording', 'reversion', 'oversight', 'grander', 'undoubting', 'thomson', 'beside', 'strongest', 'failings', 'changeable', 'thyroid', 'petowners', 'bustles', 'seedlander', 'tripping', 'liquidy', 'aesthetics', 'healthifying', 'wring', 'hacked'] 0.008313434879802224\n"
     ]
    }
   ],
   "source": [
    "if len(l) > 20:\n",
    "    from sklearn.utils.murmurhash import murmurhash3_bytes_s32\n",
    "    from sklearn.feature_extraction.text import CountVectorizer\n",
    "    from collections import defaultdict\n",
    "    \n",
    "    def fhash(v, size = 1024):\n",
    "        return murmurhash3_bytes_s32(v.encode(\"utf-8\"), 0) % size\n",
    "    data = pd.read_parquet(\"data/training.parquet\")\n",
    "    vectorizer = CountVectorizer(token_pattern='(?u)\\\\b[A-Za-z]\\\\w+\\\\b')\n",
    "    vectorizer.fit(data[\"text\"])\n",
    "    d = defaultdict(lambda: [])\n",
    "    for k in vectorizer.vocabulary_.keys():\n",
    "        d[fhash(k)].append(k)\n",
    "    \n",
    "    for k, v in l[:20]:\n",
    "        print(d[k], v)"
   ]
  },
  {
   "cell_type": "markdown",
   "metadata": {},
   "source": [
    "This sort of investigation is useful to see how well our feature count is working in the context of feature hashing:  if we see that an important feature has many apparently-unrelated words (especially if many relatively-common words are in the same bucket), we may want to increase the number of buckets to improve the performance of our model.\n",
    "\n",
    "Finally, we'll want to save the model so that we can use it outside of this notebook."
   ]
  },
  {
   "cell_type": "code",
   "execution_count": 13,
   "metadata": {},
   "outputs": [],
   "source": [
    "from mlworkflows import util\n",
    "util.serialize_to(rfc, \"model.sav\")"
   ]
  }
 ],
 "metadata": {
  "kernelspec": {
   "display_name": "Python 3",
   "language": "python",
   "name": "python3"
  },
  "language_info": {
   "codemirror_mode": {
    "name": "ipython",
    "version": 3
   },
   "file_extension": ".py",
   "mimetype": "text/x-python",
   "name": "python",
   "nbconvert_exporter": "python",
   "pygments_lexer": "ipython3",
   "version": "3.8.3"
  }
 },
 "nbformat": 4,
 "nbformat_minor": 2
}
