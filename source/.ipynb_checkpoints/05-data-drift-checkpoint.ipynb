{
 "cells": [
  {
   "cell_type": "markdown",
   "metadata": {},
   "source": [
    "## Data Drift\n",
    "\n",
    "\n",
    "Suppose the spam generator becomes more intelligent and begins producing prose which looks \"more legitimate\" than before. Words that were frequently associated with appearing in non-spam may appear more in real emails, or vice versa. Models that are running continuously with streamed data need to be monitored to ensure that the data has not drifted. \n",
    " 0. Data \n",
    "\n",
    "For the purpose of this notebook we will simply force the spam data to *drift* by adding the first few lines of Pride and Prejudice to the start of the spam documents in our testing set. We will then see how the trained model responds.  "
   ]
  },
  {
   "cell_type": "code",
   "execution_count": 15,
   "metadata": {},
   "outputs": [],
   "source": [
    "import pandas as pd\n",
    "import os.path\n",
    "\n",
    "data = pd.read_parquet(os.path.join(\"data\", \"training.parquet\"))\n",
    "df = pd.read_parquet(os.path.join(\"data\", \"training.parquet\"))"
   ]
  },
  {
   "cell_type": "markdown",
   "metadata": {},
   "source": [
    "We split the data into training and testing sets, as in the modelling notebooks. We use the `random_state` parameter to ensure that the data is split in the same way as it was when we fit the model. "
   ]
  },
  {
   "cell_type": "code",
   "execution_count": 16,
   "metadata": {},
   "outputs": [],
   "source": [
    "from sklearn import model_selection\n",
    "\n",
    "df_train, df_test = model_selection.train_test_split(df, random_state=43)\n",
    "df_test_spam = df_test[df_test.label == 'spam'].copy() #filter the spam documents"
   ]
  },
  {
   "cell_type": "code",
   "execution_count": 17,
   "metadata": {},
   "outputs": [],
   "source": [
    "def add_text(doc, adds):\n",
    "    \"\"\"\n",
    "    takes in a string _doc_ and\n",
    "    appends text _adds_ to the start\n",
    "    \"\"\"\n",
    "    \n",
    "    return adds + doc"
   ]
  },
  {
   "cell_type": "code",
   "execution_count": 18,
   "metadata": {},
   "outputs": [],
   "source": [
    "pride_pred = '''It is a truth universally acknowledged, that a single man in possession of a good fortune, must be in want of a wife.However little known the feelings or views of such a man may be on his first entering a neighbourhood, this truth is so well fixed in the minds of the surrounding families, that he is considered the rightful property of some one or other of their daughters.“My dear Mr. Bennet,” said his lady to him one day, “have you heard that Netherfield Park is let at last?” Mr. Bennet replied that he had not. “But it is,” returned she; “for Mrs. Long has just been here, and she told me all about it.” Mr. Bennet made no answer. “Do you not want to know who has taken it?” cried his wife impatiently.'''"
   ]
  },
  {
   "cell_type": "code",
   "execution_count": 19,
   "metadata": {},
   "outputs": [],
   "source": [
    "# appending text to the start of the spam\n",
    "df_test_spam[\"text\"] = df_test_spam.text.apply(add_text, adds=pride_pred)"
   ]
  },
  {
   "cell_type": "code",
   "execution_count": 20,
   "metadata": {},
   "outputs": [
    {
     "data": {
      "text/html": [
       "<div>\n",
       "<style scoped>\n",
       "    .dataframe tbody tr th:only-of-type {\n",
       "        vertical-align: middle;\n",
       "    }\n",
       "\n",
       "    .dataframe tbody tr th {\n",
       "        vertical-align: top;\n",
       "    }\n",
       "\n",
       "    .dataframe thead th {\n",
       "        text-align: right;\n",
       "    }\n",
       "</style>\n",
       "<table border=\"1\" class=\"dataframe\">\n",
       "  <thead>\n",
       "    <tr style=\"text-align: right;\">\n",
       "      <th></th>\n",
       "      <th>index</th>\n",
       "      <th>label</th>\n",
       "      <th>text</th>\n",
       "    </tr>\n",
       "  </thead>\n",
       "  <tbody>\n",
       "    <tr>\n",
       "      <th>21224</th>\n",
       "      <td>1224</td>\n",
       "      <td>spam</td>\n",
       "      <td>It is a truth universally acknowledged, that a single man in possession of a good fortune, must be in want of a wife.However little known the feelings or views of such a man may be on his first entering a neighbourhood, this truth is so well fixed in the minds of the surrounding families, that he is considered the rightful property of some one or other of their daughters.“My dear Mr. Bennet,” said his lady to him one day, “have you heard that Netherfield Park is let at last?” Mr. Bennet replied that he had not. “But it is,” returned she; “for Mrs. Long has just been here, and she told me all about it.” Mr. Bennet made no answer. “Do you not want to know who has taken it?” cried his wife impatiently.To be sure I don't run out! The flavor is subtle, the texture is terrible. All the oats I had came out of the ground.</td>\n",
       "    </tr>\n",
       "    <tr>\n",
       "      <th>39979</th>\n",
       "      <td>19979</td>\n",
       "      <td>spam</td>\n",
       "      <td>It is a truth universally acknowledged, that a single man in possession of a good fortune, must be in want of a wife.However little known the feelings or views of such a man may be on his first entering a neighbourhood, this truth is so well fixed in the minds of the surrounding families, that he is considered the rightful property of some one or other of their daughters.“My dear Mr. Bennet,” said his lady to him one day, “have you heard that Netherfield Park is let at last?” Mr. Bennet replied that he had not. “But it is,” returned she; “for Mrs. Long has just been here, and she told me all about it.” Mr. Bennet made no answer. “Do you not want to know who has taken it?” cried his wife impatiently.Cheap.The worst part though was the scent. But what is more wonderful, no more doggie breath. I am assuming it is because I LOVE food. Haven't tried with anything else in the future otherwise it would fall out of it great for settling an upset stomach with dogs but this is by far the worst I've ever had. The first time we have had for at least a case, becauseit will be used up in the morning. I just thought you might want to have an alternative to potato chips.</td>\n",
       "    </tr>\n",
       "    <tr>\n",
       "      <th>22990</th>\n",
       "      <td>2990</td>\n",
       "      <td>spam</td>\n",
       "      <td>It is a truth universally acknowledged, that a single man in possession of a good fortune, must be in want of a wife.However little known the feelings or views of such a man may be on his first entering a neighbourhood, this truth is so well fixed in the minds of the surrounding families, that he is considered the rightful property of some one or other of their daughters.“My dear Mr. Bennet,” said his lady to him one day, “have you heard that Netherfield Park is let at last?” Mr. Bennet replied that he had not. “But it is,” returned she; “for Mrs. Long has just been here, and she told me all about it.” Mr. Bennet made no answer. “Do you not want to know who has taken it?” cried his wife impatiently.There was about a year now. Amazing! Great product and price! But, I found these and they are willing to cut corners on quality. They have saved me again. Still useful to add into my own container I pour off about a third of a teaspoon in hot chocolate that I've ever had.</td>\n",
       "    </tr>\n",
       "  </tbody>\n",
       "</table>\n",
       "</div>"
      ],
      "text/plain": [
       "       index label  \\\n",
       "21224   1224  spam   \n",
       "39979  19979  spam   \n",
       "22990   2990  spam   \n",
       "\n",
       "                                                                                                                                                                                                                                                                                                                                                                                                                                                                                                                                                                                                                                                                                                                                                                                                                                                                                                                                                                                                                                                                                                                                                                                                                        text  \n",
       "21224                                                                                                                                                                                                                                                                                                                                                              It is a truth universally acknowledged, that a single man in possession of a good fortune, must be in want of a wife.However little known the feelings or views of such a man may be on his first entering a neighbourhood, this truth is so well fixed in the minds of the surrounding families, that he is considered the rightful property of some one or other of their daughters.“My dear Mr. Bennet,” said his lady to him one day, “have you heard that Netherfield Park is let at last?” Mr. Bennet replied that he had not. “But it is,” returned she; “for Mrs. Long has just been here, and she told me all about it.” Mr. Bennet made no answer. “Do you not want to know who has taken it?” cried his wife impatiently.To be sure I don't run out! The flavor is subtle, the texture is terrible. All the oats I had came out of the ground.  \n",
       "39979  It is a truth universally acknowledged, that a single man in possession of a good fortune, must be in want of a wife.However little known the feelings or views of such a man may be on his first entering a neighbourhood, this truth is so well fixed in the minds of the surrounding families, that he is considered the rightful property of some one or other of their daughters.“My dear Mr. Bennet,” said his lady to him one day, “have you heard that Netherfield Park is let at last?” Mr. Bennet replied that he had not. “But it is,” returned she; “for Mrs. Long has just been here, and she told me all about it.” Mr. Bennet made no answer. “Do you not want to know who has taken it?” cried his wife impatiently.Cheap.The worst part though was the scent. But what is more wonderful, no more doggie breath. I am assuming it is because I LOVE food. Haven't tried with anything else in the future otherwise it would fall out of it great for settling an upset stomach with dogs but this is by far the worst I've ever had. The first time we have had for at least a case, becauseit will be used up in the morning. I just thought you might want to have an alternative to potato chips.  \n",
       "22990                                                                                                                                                                                                   It is a truth universally acknowledged, that a single man in possession of a good fortune, must be in want of a wife.However little known the feelings or views of such a man may be on his first entering a neighbourhood, this truth is so well fixed in the minds of the surrounding families, that he is considered the rightful property of some one or other of their daughters.“My dear Mr. Bennet,” said his lady to him one day, “have you heard that Netherfield Park is let at last?” Mr. Bennet replied that he had not. “But it is,” returned she; “for Mrs. Long has just been here, and she told me all about it.” Mr. Bennet made no answer. “Do you not want to know who has taken it?” cried his wife impatiently.There was about a year now. Amazing! Great product and price! But, I found these and they are willing to cut corners on quality. They have saved me again. Still useful to add into my own container I pour off about a third of a teaspoon in hot chocolate that I've ever had.  "
      ]
     },
     "execution_count": 20,
     "metadata": {},
     "output_type": "execute_result"
    }
   ],
   "source": [
    "pd.set_option('display.max_colwidth', None) #ensures that all the text is visible\n",
    "df_test_spam.sample(3)"
   ]
  },
  {
   "cell_type": "markdown",
   "metadata": {},
   "source": [
    "We now pass this \"drifted\" data through the pipeline we created: we compute feature vectors, and we make spam/legitimate classifications using the model we trained. "
   ]
  },
  {
   "cell_type": "code",
   "execution_count": 21,
   "metadata": {},
   "outputs": [],
   "source": [
    "from sklearn.pipeline import Pipeline\n",
    "import pickle, os\n",
    "\n",
    "## loading in feature vectors pipeline\n",
    "filename = 'feature_pipeline.sav'\n",
    "feat_pipeline = pickle.load(open(filename, 'rb'))\n",
    "\n",
    "## loading model\n",
    "filename = 'model.sav'\n",
    "model = pickle.load(open(filename, 'rb'))\n",
    "\n"
   ]
  },
  {
   "cell_type": "code",
   "execution_count": 22,
   "metadata": {},
   "outputs": [
    {
     "data": {
      "text/plain": [
       "Pipeline(steps=[('features',\n",
       "                 Pipeline(steps=[('vect',\n",
       "                                  HashingVectorizer(alternate_sign=False,\n",
       "                                                    n_features=1024, norm=None,\n",
       "                                                    token_pattern='(?u)\\\\b[A-Za-z]\\\\w+\\\\b')),\n",
       "                                 ('tfidf', TfidfTransformer())])),\n",
       "                ('model', LogisticRegression(max_iter=4000))])"
      ]
     },
     "execution_count": 22,
     "metadata": {},
     "output_type": "execute_result"
    }
   ],
   "source": [
    "pipeline = Pipeline([\n",
    "    ('features',feat_pipeline),\n",
    "    ('model',model)\n",
    "])\n",
    "\n",
    "## we need to fit the model, using the un-drifted data, as we did in the previous notebooks. \n",
    "\n",
    "pipeline.fit(df_train[\"text\"], df_train[\"label\"])"
   ]
  },
  {
   "cell_type": "code",
   "execution_count": 23,
   "metadata": {},
   "outputs": [
    {
     "name": "stdout",
     "output_type": "stream",
     "text": [
      "['legitimate' 'legitimate' 'legitimate' ... 'legitimate' 'legitimate'\n",
      " 'legitimate']\n"
     ]
    }
   ],
   "source": [
    "## we can then go on and make predictions for the drifted spam, using the fitted pipeline above. \n",
    "# predict test instances\n",
    "y_preds = pipeline.predict(df_test_spam[\"text\"])\n",
    "print(y_preds)"
   ]
  },
  {
   "cell_type": "markdown",
   "metadata": {},
   "source": [
    "It looks as though the drifted data is always classified as legitimate (remember that it is actually 100% spam), but let's look at a confusion matrix to visualize the predictions."
   ]
  },
  {
   "cell_type": "code",
   "execution_count": 25,
   "metadata": {
    "scrolled": true
   },
   "outputs": [
    {
     "data": {
      "text/html": [
       "\n",
       "<div id=\"altair-viz-6ed3bbf5b0a6482e851df4ec1b958e08\"></div>\n",
       "<script type=\"text/javascript\">\n",
       "  (function(spec, embedOpt){\n",
       "    let outputDiv = document.currentScript.previousElementSibling;\n",
       "    if (outputDiv.id !== \"altair-viz-6ed3bbf5b0a6482e851df4ec1b958e08\") {\n",
       "      outputDiv = document.getElementById(\"altair-viz-6ed3bbf5b0a6482e851df4ec1b958e08\");\n",
       "    }\n",
       "    const paths = {\n",
       "      \"vega\": \"https://cdn.jsdelivr.net/npm//vega@5?noext\",\n",
       "      \"vega-lib\": \"https://cdn.jsdelivr.net/npm//vega-lib?noext\",\n",
       "      \"vega-lite\": \"https://cdn.jsdelivr.net/npm//vega-lite@4.8.1?noext\",\n",
       "      \"vega-embed\": \"https://cdn.jsdelivr.net/npm//vega-embed@6?noext\",\n",
       "    };\n",
       "\n",
       "    function loadScript(lib) {\n",
       "      return new Promise(function(resolve, reject) {\n",
       "        var s = document.createElement('script');\n",
       "        s.src = paths[lib];\n",
       "        s.async = true;\n",
       "        s.onload = () => resolve(paths[lib]);\n",
       "        s.onerror = () => reject(`Error loading script: ${paths[lib]}`);\n",
       "        document.getElementsByTagName(\"head\")[0].appendChild(s);\n",
       "      });\n",
       "    }\n",
       "\n",
       "    function showError(err) {\n",
       "      outputDiv.innerHTML = `<div class=\"error\" style=\"color:red;\">${err}</div>`;\n",
       "      throw err;\n",
       "    }\n",
       "\n",
       "    function displayChart(vegaEmbed) {\n",
       "      vegaEmbed(outputDiv, spec, embedOpt)\n",
       "        .catch(err => showError(`Javascript Error: ${err.message}<br>This usually means there's a typo in your chart specification. See the javascript console for the full traceback.`));\n",
       "    }\n",
       "\n",
       "    if(typeof define === \"function\" && define.amd) {\n",
       "      requirejs.config({paths});\n",
       "      require([\"vega-embed\"], displayChart, err => showError(`Error loading script: ${err.message}`));\n",
       "    } else if (typeof vegaEmbed === \"function\") {\n",
       "      displayChart(vegaEmbed);\n",
       "    } else {\n",
       "      loadScript(\"vega\")\n",
       "        .then(() => loadScript(\"vega-lite\"))\n",
       "        .then(() => loadScript(\"vega-embed\"))\n",
       "        .catch(showError)\n",
       "        .then(() => displayChart(vegaEmbed));\n",
       "    }\n",
       "  })({\"config\": {\"view\": {\"continuousWidth\": 400, \"continuousHeight\": 300}}, \"data\": {\"name\": \"data-aa90325d4b4a9aa419f11a06e9e61e70\"}, \"mark\": \"rect\", \"encoding\": {\"color\": {\"type\": \"quantitative\", \"field\": \"value\"}, \"tooltip\": [{\"type\": \"quantitative\", \"field\": \"raw_count\"}], \"x\": {\"type\": \"ordinal\", \"field\": \"predicted\"}, \"y\": {\"type\": \"ordinal\", \"field\": \"actual\"}}, \"height\": 215, \"width\": 215, \"$schema\": \"https://vega.github.io/schema/vega-lite/v4.8.1.json\", \"datasets\": {\"data-aa90325d4b4a9aa419f11a06e9e61e70\": [{\"predicted\": \"legitimate\", \"actual\": \"legitimate\", \"raw_count\": 0, \"value\": null}, {\"predicted\": \"legitimate\", \"actual\": \"spam\", \"raw_count\": 0, \"value\": null}, {\"predicted\": \"spam\", \"actual\": \"legitimate\", \"raw_count\": 4992, \"value\": 0.9991993594875901}, {\"predicted\": \"spam\", \"actual\": \"spam\", \"raw_count\": 4, \"value\": 0.0008006405124099279}]}}, {\"mode\": \"vega-lite\"});\n",
       "</script>"
      ],
      "text/plain": [
       "alt.Chart(...)"
      ]
     },
     "execution_count": 25,
     "metadata": {},
     "output_type": "execute_result"
    }
   ],
   "source": [
    "from sklearn.metrics import confusion_matrix\n",
    "from mlworkflows import plot\n",
    "\n",
    "df, chart = plot.binary_confusion_matrix(df_test_spam[\"label\"], y_preds)\n",
    "confusion_matrix(df_test_spam[\"label\"], y_preds)\n",
    "chart"
   ]
  },
  {
   "cell_type": "markdown",
   "metadata": {},
   "source": [
    "Not surprisingly, the model is quite terrible at classifying drifted data, since this is not what we trained the model on."
   ]
  },
  {
   "cell_type": "code",
   "execution_count": 29,
   "metadata": {},
   "outputs": [
    {
     "name": "stdout",
     "output_type": "stream",
     "text": [
      "['legitimate' 'spam' 'legitimate' ... 'spam' 'legitimate' 'legitimate']\n"
     ]
    }
   ],
   "source": [
    "import numpy as np\n",
    "\n",
    "#need this since KSdrift must convert to tensor in KSDrift, this was workaround\n",
    "df_test = np.asarray(df_test)\n",
    "print(df_test[:,1])"
   ]
  },
  {
   "cell_type": "markdown",
   "metadata": {},
   "source": [
    "This method also uses PCA which ..."
   ]
  },
  {
   "cell_type": "code",
   "execution_count": 30,
   "metadata": {},
   "outputs": [],
   "source": [
    "import sklearn.decomposition\n",
    "\n",
    "DIMENSIONS = 2\n",
    "\n",
    "pca = sklearn.decomposition.PCA(DIMENSIONS)"
   ]
  },
  {
   "cell_type": "markdown",
   "metadata": {},
   "source": [
    "We'll use the [Alibi Detect](https://github.com/SeldonIO/alibi-detect) library to detect drift. While there are many ways to detect drift, we will display [Kolmogorov-Smirnov](https://en.wikipedia.org/wiki/Kolmogorov%E2%80%93Smirnov_test), or K-S, tests in this notebook for detection. These tests compare the probability distribution between original and (possibily) drifted data per feature (in this case, the hashed values *is this true*). Checking each feature's drift is all well and good, but you need to know if the data as a whole has shifted in a statistically signficant way in order to know if you need to retrain the model. Using a [Bonferroni](https://mathworld.wolfram.com/BonferroniCorrection.html) correction, the K-S test results are aggregated and tested as a whole. "
   ]
  },
  {
   "cell_type": "code",
   "execution_count": 35,
   "metadata": {
    "scrolled": true
   },
   "outputs": [],
   "source": [
    "#KSDrift\n",
    "import alibi_detect\n",
    "from alibi_detect.cd import KSDrift\n",
    "from alibi_detect.cd.preprocess import uae  # Untrained AutoEncoder\n",
    "from sklearn import preprocessing\n",
    "\n",
    "#initialize label encoder\n",
    "label_encoder = preprocessing.LabelEncoder() \n",
    "\n",
    "\n",
    "p_val = 0.05\n",
    "drift_detect = KSDrift(\n",
    "    p_val = p_val, # p-value for KS set\n",
    "    X_ref = df_test, # test against original test set\n",
    "    preprocess_fn = pca, \n",
    "    preprocess_kwargs = {'model': label_encoder.fit(df_test[:,1]), 'batch_size':32},\n",
    "    alternative = 'two-sided',  # other options: 'less', 'greater'\n",
    "    correction = 'bonferroni' # could also use \n",
    ")"
   ]
  },
  {
   "cell_type": "markdown",
   "metadata": {},
   "source": [
    "We'll start with a sanity check and test the original data. Since we're feeding in the same data set twice, we should not get any drift."
   ]
  },
  {
   "cell_type": "code",
   "execution_count": 37,
   "metadata": {},
   "outputs": [
    {
     "name": "stdout",
     "output_type": "stream",
     "text": [
      "Drift? No!\n"
     ]
    }
   ],
   "source": [
    "preds_test = drift_detect.predict(df_test)\n",
    "labels = ['No!', 'Yes!']\n",
    "print('Drift? {}'.format(labels[preds_test['data']['is_drift']]))"
   ]
  },
  {
   "cell_type": "markdown",
   "metadata": {},
   "source": [
    "This was the desired output! Let's try again, but with the drifted data. "
   ]
  },
  {
   "cell_type": "markdown",
   "metadata": {},
   "source": [
    "## Exercises\n",
    "The two models perform very similarly on the \"drifted\" data in this notebook. Consider alternative types of data drift and see how the models perform: \n",
    "1. What happens when fewer words from Pride and Prejudice are appended to the spam? \n",
    "2. How about using a completely different excerpt of Austen? \n",
    "3. How do the models perform when generic text (neither Austen nor food reviews) is appended to the spam? "
   ]
  }
 ],
 "metadata": {
  "kernelspec": {
   "display_name": "Python 3",
   "language": "python",
   "name": "python3"
  },
  "language_info": {
   "codemirror_mode": {
    "name": "ipython",
    "version": 3
   },
   "file_extension": ".py",
   "mimetype": "text/x-python",
   "name": "python",
   "nbconvert_exporter": "python",
   "pygments_lexer": "ipython3",
   "version": "3.8.3"
  }
 },
 "nbformat": 4,
 "nbformat_minor": 2
}
