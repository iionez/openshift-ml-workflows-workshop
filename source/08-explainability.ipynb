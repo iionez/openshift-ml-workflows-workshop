{
 "cells": [
  {
   "cell_type": "markdown",
   "metadata": {},
   "source": [
    "# Model Explainability"
   ]
  },
  {
   "cell_type": "markdown",
   "metadata": {},
   "source": [
    "The growing availability of big data has increased the benefits of using complex models, so data scientists often have to choose between accuracy and interpretability of a model’s output. Adding explainability methods to models that are not easily understood helps:\n",
    "- Ensure algorithmic fairness\n",
    "- Identify potential bias in the training data\n",
    "- Support an overall better understanding of the process being modeled.\n",
    "\n",
    "These methods are able to give insight into why your model generates specific outputs. This is a useful trait in highly regulated industries when it's necessary to know why a particular instance was classified in a certain way (e.g., determining why a model approved or denied a customer loan).\n",
    "\n",
    "Let's start by loading in the dataset. This notebook was created using the output from the [simple summaries feature engineering noteboook](03-feature-engineering-summaries.ipynb). It is recommended that you run this notebook first to follow along with the prose."
   ]
  },
  {
   "cell_type": "code",
   "execution_count": 1,
   "metadata": {},
   "outputs": [
    {
     "data": {
      "text/html": [
       "<div>\n",
       "<style scoped>\n",
       "    .dataframe tbody tr th:only-of-type {\n",
       "        vertical-align: middle;\n",
       "    }\n",
       "\n",
       "    .dataframe tbody tr th {\n",
       "        vertical-align: top;\n",
       "    }\n",
       "\n",
       "    .dataframe thead th {\n",
       "        text-align: right;\n",
       "    }\n",
       "</style>\n",
       "<table border=\"1\" class=\"dataframe\">\n",
       "  <thead>\n",
       "    <tr style=\"text-align: right;\">\n",
       "      <th></th>\n",
       "      <th>index</th>\n",
       "      <th>label</th>\n",
       "      <th>no_punct</th>\n",
       "      <th>number_words</th>\n",
       "      <th>mean_wl</th>\n",
       "      <th>max_wl</th>\n",
       "      <th>min_wl</th>\n",
       "      <th>pc_10_wl</th>\n",
       "      <th>pc_90_wl</th>\n",
       "      <th>upper</th>\n",
       "      <th>stop_words</th>\n",
       "    </tr>\n",
       "  </thead>\n",
       "  <tbody>\n",
       "    <tr>\n",
       "      <th>0</th>\n",
       "      <td>0</td>\n",
       "      <td>legitimate</td>\n",
       "      <td>34</td>\n",
       "      <td>124</td>\n",
       "      <td>4.604839</td>\n",
       "      <td>14</td>\n",
       "      <td>1</td>\n",
       "      <td>2.0</td>\n",
       "      <td>8.0</td>\n",
       "      <td>22</td>\n",
       "      <td>64</td>\n",
       "    </tr>\n",
       "    <tr>\n",
       "      <th>1</th>\n",
       "      <td>1</td>\n",
       "      <td>legitimate</td>\n",
       "      <td>16</td>\n",
       "      <td>87</td>\n",
       "      <td>4.896552</td>\n",
       "      <td>16</td>\n",
       "      <td>1</td>\n",
       "      <td>2.0</td>\n",
       "      <td>8.4</td>\n",
       "      <td>10</td>\n",
       "      <td>46</td>\n",
       "    </tr>\n",
       "    <tr>\n",
       "      <th>2</th>\n",
       "      <td>2</td>\n",
       "      <td>legitimate</td>\n",
       "      <td>23</td>\n",
       "      <td>139</td>\n",
       "      <td>4.330935</td>\n",
       "      <td>12</td>\n",
       "      <td>1</td>\n",
       "      <td>2.0</td>\n",
       "      <td>8.0</td>\n",
       "      <td>24</td>\n",
       "      <td>74</td>\n",
       "    </tr>\n",
       "    <tr>\n",
       "      <th>3</th>\n",
       "      <td>3</td>\n",
       "      <td>legitimate</td>\n",
       "      <td>17</td>\n",
       "      <td>94</td>\n",
       "      <td>4.500000</td>\n",
       "      <td>13</td>\n",
       "      <td>1</td>\n",
       "      <td>2.0</td>\n",
       "      <td>9.0</td>\n",
       "      <td>13</td>\n",
       "      <td>49</td>\n",
       "    </tr>\n",
       "    <tr>\n",
       "      <th>4</th>\n",
       "      <td>4</td>\n",
       "      <td>legitimate</td>\n",
       "      <td>12</td>\n",
       "      <td>80</td>\n",
       "      <td>4.375000</td>\n",
       "      <td>9</td>\n",
       "      <td>2</td>\n",
       "      <td>2.0</td>\n",
       "      <td>7.0</td>\n",
       "      <td>11</td>\n",
       "      <td>46</td>\n",
       "    </tr>\n",
       "    <tr>\n",
       "      <th>...</th>\n",
       "      <td>...</td>\n",
       "      <td>...</td>\n",
       "      <td>...</td>\n",
       "      <td>...</td>\n",
       "      <td>...</td>\n",
       "      <td>...</td>\n",
       "      <td>...</td>\n",
       "      <td>...</td>\n",
       "      <td>...</td>\n",
       "      <td>...</td>\n",
       "      <td>...</td>\n",
       "    </tr>\n",
       "    <tr>\n",
       "      <th>39995</th>\n",
       "      <td>19995</td>\n",
       "      <td>spam</td>\n",
       "      <td>10</td>\n",
       "      <td>52</td>\n",
       "      <td>4.211538</td>\n",
       "      <td>11</td>\n",
       "      <td>1</td>\n",
       "      <td>2.0</td>\n",
       "      <td>7.0</td>\n",
       "      <td>8</td>\n",
       "      <td>25</td>\n",
       "    </tr>\n",
       "    <tr>\n",
       "      <th>39996</th>\n",
       "      <td>19996</td>\n",
       "      <td>spam</td>\n",
       "      <td>8</td>\n",
       "      <td>66</td>\n",
       "      <td>4.545455</td>\n",
       "      <td>13</td>\n",
       "      <td>1</td>\n",
       "      <td>2.0</td>\n",
       "      <td>8.5</td>\n",
       "      <td>6</td>\n",
       "      <td>34</td>\n",
       "    </tr>\n",
       "    <tr>\n",
       "      <th>39997</th>\n",
       "      <td>19997</td>\n",
       "      <td>spam</td>\n",
       "      <td>11</td>\n",
       "      <td>52</td>\n",
       "      <td>4.384615</td>\n",
       "      <td>12</td>\n",
       "      <td>1</td>\n",
       "      <td>2.0</td>\n",
       "      <td>7.0</td>\n",
       "      <td>10</td>\n",
       "      <td>20</td>\n",
       "    </tr>\n",
       "    <tr>\n",
       "      <th>39998</th>\n",
       "      <td>19998</td>\n",
       "      <td>spam</td>\n",
       "      <td>15</td>\n",
       "      <td>95</td>\n",
       "      <td>3.926316</td>\n",
       "      <td>12</td>\n",
       "      <td>1</td>\n",
       "      <td>2.0</td>\n",
       "      <td>6.0</td>\n",
       "      <td>9</td>\n",
       "      <td>54</td>\n",
       "    </tr>\n",
       "    <tr>\n",
       "      <th>39999</th>\n",
       "      <td>19999</td>\n",
       "      <td>spam</td>\n",
       "      <td>3</td>\n",
       "      <td>17</td>\n",
       "      <td>5.058824</td>\n",
       "      <td>14</td>\n",
       "      <td>1</td>\n",
       "      <td>2.0</td>\n",
       "      <td>8.2</td>\n",
       "      <td>2</td>\n",
       "      <td>4</td>\n",
       "    </tr>\n",
       "  </tbody>\n",
       "</table>\n",
       "<p>40000 rows × 11 columns</p>\n",
       "</div>"
      ],
      "text/plain": [
       "       index       label  no_punct  number_words   mean_wl  max_wl  min_wl  \\\n",
       "0          0  legitimate        34           124  4.604839      14       1   \n",
       "1          1  legitimate        16            87  4.896552      16       1   \n",
       "2          2  legitimate        23           139  4.330935      12       1   \n",
       "3          3  legitimate        17            94  4.500000      13       1   \n",
       "4          4  legitimate        12            80  4.375000       9       2   \n",
       "...      ...         ...       ...           ...       ...     ...     ...   \n",
       "39995  19995        spam        10            52  4.211538      11       1   \n",
       "39996  19996        spam         8            66  4.545455      13       1   \n",
       "39997  19997        spam        11            52  4.384615      12       1   \n",
       "39998  19998        spam        15            95  3.926316      12       1   \n",
       "39999  19999        spam         3            17  5.058824      14       1   \n",
       "\n",
       "       pc_10_wl  pc_90_wl  upper  stop_words  \n",
       "0           2.0       8.0     22          64  \n",
       "1           2.0       8.4     10          46  \n",
       "2           2.0       8.0     24          74  \n",
       "3           2.0       9.0     13          49  \n",
       "4           2.0       7.0     11          46  \n",
       "...         ...       ...    ...         ...  \n",
       "39995       2.0       7.0      8          25  \n",
       "39996       2.0       8.5      6          34  \n",
       "39997       2.0       7.0     10          20  \n",
       "39998       2.0       6.0      9          54  \n",
       "39999       2.0       8.2      2           4  \n",
       "\n",
       "[40000 rows x 11 columns]"
      ]
     },
     "execution_count": 1,
     "metadata": {},
     "output_type": "execute_result"
    }
   ],
   "source": [
    "import pandas as pd\n",
    "import os.path\n",
    "from sklearn import model_selection\n",
    "\n",
    "df = pd.read_parquet(os.path.join(\"data\", \"features.parquet\"))\n",
    "df"
   ]
  },
  {
   "cell_type": "markdown",
   "metadata": {},
   "source": [
    "We have to edit some of the fields in our dataset in order to comply with the explainability method's inputs. Because models don't understand written language in the ways humans do, we will translate the `label` variable into [dummy variables](https://en.wikipedia.org/wiki/Dummy_variable_(statistics)) using a [One Hot encoder](https://en.wikipedia.org/wiki/One-hot). The output will be two columns, `spam` and `legitimate` , where the labels are either 0 or 1 to identify each type of email. Having two columns is redundant, as a label of 0 for `legitimate` would be the equivalent of a label of 1 for `spam` column, so we will drop one column (`spam`, specifically but arbitrarily chosen) in order to reduce redundancy. "
   ]
  },
  {
   "cell_type": "code",
   "execution_count": 2,
   "metadata": {},
   "outputs": [],
   "source": [
    "import numpy as np\n",
    "\n",
    "df_with_dummies = pd.get_dummies(df['label']) # create dummy variables\n",
    "data = pd.concat([df, df_with_dummies], axis=1) # add dummy variables to original dataset\n",
    "data.drop(['spam', 'label'], inplace = True, axis=1) # drop redundant columns"
   ]
  },
  {
   "cell_type": "code",
   "execution_count": 3,
   "metadata": {},
   "outputs": [],
   "source": [
    "# move 'legitimate' column to front of data to more easily subset later\n",
    "cols = data.columns.tolist() \n",
    "cols = cols[-1:] + cols[:-1]\n",
    "data = data[cols]"
   ]
  },
  {
   "cell_type": "markdown",
   "metadata": {},
   "source": [
    "We split the data into training and testing sets, as in other notebooks, using the `random_state` parameter to ensure that the data is split in the same way as it was when we fit the model."
   ]
  },
  {
   "cell_type": "code",
   "execution_count": 4,
   "metadata": {},
   "outputs": [],
   "source": [
    "from sklearn import model_selection\n",
    "\n",
    "train, test = model_selection.train_test_split(data, random_state=43)"
   ]
  },
  {
   "cell_type": "markdown",
   "metadata": {},
   "source": [
    "We'll load in the model pipeline created in previous notebooks, fit the model, and generate predictions."
   ]
  },
  {
   "cell_type": "code",
   "execution_count": 5,
   "metadata": {},
   "outputs": [],
   "source": [
    "# loading in feature extraction pipeline\n",
    "import pickle\n",
    "\n",
    "# loading model\n",
    "filename = 'model.sav'\n",
    "model = pickle.load(open(filename, 'rb'))"
   ]
  },
  {
   "cell_type": "code",
   "execution_count": 6,
   "metadata": {},
   "outputs": [],
   "source": [
    "# fit model\n",
    "model.fit(X=train.iloc[:,2:train.shape[1]], y=train[\"legitimate\"])\n",
    "\n",
    "# generate predictions\n",
    "y_preds = model.predict(test.iloc[:,2:test.shape[1]])"
   ]
  },
  {
   "cell_type": "markdown",
   "metadata": {},
   "source": [
    "Our model has now made a classification prediction for each of the test data points. However, we don't have much intuition as to how the model chose to classify these values. Was it based off of the amount of words in each email? Number of punctuation points? Explainability methods exist to offer ways to explore the decision making process of black-box models such as this one. Let's see if we can figure out why this prediction was made.\n",
    "\n",
    "## SHAP\n",
    "One type of explainability method is [SHAP](https://christophm.github.io/interpretable-ml-book/shap.html), or SHapley Additive exPlanations, where a local prediction is explained by displaying each feature's  contribution to the prediction. The output of a SHAP method is a linear model created for a particular instance. We'll use the [Alibi](https://github.com/SeldonIO/alibi) library to use [KernelSHAP](https://docs.seldon.io/projects/alibi/en/latest/methods/KernelSHAP.html), which is used as a black-box SHAP method for an arbitrary classification model. "
   ]
  },
  {
   "cell_type": "code",
   "execution_count": 7,
   "metadata": {},
   "outputs": [
    {
     "data": {
      "text/plain": [
       "KernelShap(meta={\n",
       "    'name': 'KernelShap',\n",
       "    'type': ['blackbox'],\n",
       "    'task': 'classification',\n",
       "    'explanations': ['local', 'global'],\n",
       "    'params': {\n",
       "        'groups': None,\n",
       "        'group_names': None,\n",
       "        'weights': None,\n",
       "        'kwargs': {},\n",
       "        'summarise_background': False\n",
       "    }\n",
       "})"
      ]
     },
     "execution_count": 7,
     "metadata": {},
     "output_type": "execute_result"
    }
   ],
   "source": [
    "import alibi\n",
    "from alibi.explainers import KernelShap\n",
    "import shap\n",
    "\n",
    "predict_fn = model.predict_proba # shap needs probability of each outcome rather than just\n",
    "                                 # the label of the outcome with highest probability\n",
    "    \n",
    "shap_explainer = KernelShap(predict_fn)\n",
    "\n",
    "shap_explainer.fit(test.iloc[:5,2:test.shape[1]]) # only using a subset of the data to fit\n",
    "                                                  # to avoid unnecessary computational stress"
   ]
  },
  {
   "cell_type": "code",
   "execution_count": 8,
   "metadata": {},
   "outputs": [
    {
     "data": {
      "application/vnd.jupyter.widget-view+json": {
       "model_id": "561e35bba6214ac99853b3e4ca11a2f8",
       "version_major": 2,
       "version_minor": 0
      },
      "text/plain": [
       "HBox(children=(FloatProgress(value=0.0, max=10000.0), HTML(value='')))"
      ]
     },
     "metadata": {},
     "output_type": "display_data"
    },
    {
     "name": "stdout",
     "output_type": "stream",
     "text": [
      "\n"
     ]
    }
   ],
   "source": [
    "shap_explanation = shap_explainer.explain(test.iloc[:,2:test.shape[1]], l1_reg=False)"
   ]
  },
  {
   "cell_type": "markdown",
   "metadata": {},
   "source": [
    "### Visualizations\n",
    "After initializing the explainer, we can look at both global and local explanation methods. We'll use a `force_plot` visualization to better understand the local linear model generated by SHAP. This plot shows which features contributed to making the prediction, and to what extent they moved the prediction from the base value (output of model if no inputs are given) to the output value for that instance. "
   ]
  },
  {
   "cell_type": "code",
   "execution_count": 9,
   "metadata": {},
   "outputs": [
    {
     "data": {
      "image/png": "[encoded data removed]",
      "text/plain": [
       "<Figure size 1440x216 with 1 Axes>"
      ]
     },
     "metadata": {
      "needs_background": "light"
     },
     "output_type": "display_data"
    }
   ],
   "source": [
    "idx = 0\n",
    "instance = test.iloc[idx,2:test.shape[1]] # shape of the instance to be explained \n",
    "class_idx = y_preds[idx] # predicted class\n",
    "feature_names = list(test.columns[2:]) \n",
    "\n",
    "shap.force_plot(\n",
    "    shap_explainer.expected_value[class_idx],\n",
    "    shap_explanation.shap_values[class_idx][idx, :],\n",
    "    instance,\n",
    "    feature_names = feature_names,\n",
    "    matplotlib=True\n",
    ")"
   ]
  },
  {
   "cell_type": "markdown",
   "metadata": {},
   "source": [
    "We can see from the plot that the `stop_words` and `number_words` features had the biggest influence on the model's decision to classify this instance. However, it's important to note that this is a local explanation. Other instances will have different weights for each feature, so we cannot generalize this output to the whole model. We could look at other explainability methods such as [counterfactuals](https://christophm.github.io/interpretable-ml-book/counterfactual.html) to find out what changes to the input would create the correct classification. \n",
    "\n",
    "We see what influenced this instance the most, but what about the overall model? SHAP also offers global explanations, which can be viewed best by a `summary_plot`."
   ]
  },
  {
   "cell_type": "code",
   "execution_count": 10,
   "metadata": {},
   "outputs": [
    {
     "data": {
      "image/png": "[encoded data removed]",
      "text/plain": [
       "<Figure size 576x367.2 with 2 Axes>"
      ]
     },
     "metadata": {
      "needs_background": "light"
     },
     "output_type": "display_data"
    }
   ],
   "source": [
    "shap.summary_plot(shap_explanation.shap_values[idx], \n",
    "                  test.iloc[:,2:test.shape[1]],  \n",
    "                  feature_names = feature_names)"
   ]
  },
  {
   "cell_type": "markdown",
   "metadata": {},
   "source": [
    "This plot shows the total sum of each feature's SHAP value for each of the instances in `x_test` with a class `0` (not legitimate, aka spam). Features with the highest impact are at the top of the plot. We can see here again that `stop_words` and `number_words` are the two strongest features; as the values of the features increase, their impact also increases and the model is more likely to predict class `0`.  \n",
    "\n",
    "# Conclusion\n",
    "In the end, explainers are not built to fix problems in models, but rather expose them. Understanding how black-box models make decisions before launching them into production helps ensure transparency and avoid unconscious bias. "
   ]
  },
  {
   "cell_type": "code",
   "execution_count": null,
   "metadata": {},
   "outputs": [],
   "source": []
  }
 ],
 "metadata": {
  "kernelspec": {
   "display_name": "Python 3",
   "language": "python",
   "name": "python3"
  },
  "language_info": {
   "codemirror_mode": {
    "name": "ipython",
    "version": 3
   },
   "file_extension": ".py",
   "mimetype": "text/x-python",
   "name": "python",
   "nbconvert_exporter": "python",
   "pygments_lexer": "ipython3",
   "version": "3.6.5"
  }
 },
 "nbformat": 4,
 "nbformat_minor": 4
}
