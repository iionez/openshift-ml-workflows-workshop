{
 "cells": [
  {
   "cell_type": "markdown",
   "metadata": {},
   "source": [
    "## Model Explainability"
   ]
  },
  {
   "cell_type": "markdown",
   "metadata": {},
   "source": [
    "The growing availability of big data has increased the benefits of using complex models, so data scientists often have to choose between accuracy and interpretability of a model’s output. Adding explainability methods to models that are not easily understood are able to ensure algorithmic fairness, identify potential bias in the training data, and support an overall better understanding of the process being modeled. At the highest level, these methods are able to give insight into why your model generates specific outputs. We'll explore just one of the many explainability methods in this notebook. \n",
    "\n",
    "Let's start by loading in the dataset."
   ]
  },
  {
   "cell_type": "code",
   "execution_count": 1,
   "metadata": {},
   "outputs": [],
   "source": [
    "import pandas as pd\n",
    "import os.path\n",
    "\n",
    "feats = pd.read_parquet(os.path.join(\"data\", \"features.parquet\"))"
   ]
  },
  {
   "cell_type": "markdown",
   "metadata": {},
   "source": [
    "We have to edit some of the fields in our dataset in order to comply with the explainability method. Because models don't understand written language in the ways humans do, we will translate the `label` variable into [dummy variables](https://en.wikipedia.org/wiki/Dummy_variable_(statistics)) using a [One Hot encoder](https://en.wikipedia.org/wiki/One-hot). The output will be two columns, `spam` and `legitimate` , where the labels are either 0 or 1 to identify each type of email. Having two columns is redundant, as a label of 0 for `legitimate` would be the equivalent of a label of 1 for `spam` column, so we will drop one column (`spam`, specifically but arbitrarily chosen) in order to reduce redundancy. We'll also create a copy of the data not containing the \"correct answers,\" so we are not training the model with the answers included."
   ]
  },
  {
   "cell_type": "code",
   "execution_count": 2,
   "metadata": {},
   "outputs": [],
   "source": [
    "from sklearn import model_selection\n",
    "\n",
    "feats2 = pd.get_dummies(feats['label'])\n",
    "data = pd.concat([feats2, feats], axis=1)\n",
    "data.drop(['spam', 'label'], inplace = True, axis=1)\n",
    "\n",
    "data2 = data.drop(\"legitimate\", axis = 1)"
   ]
  },
  {
   "cell_type": "markdown",
   "metadata": {},
   "source": [
    "We split the data into training and testing sets, as in other notebooks, using the `random_state` parameter to ensure that the data is split in the same way as it was when we fit the model."
   ]
  },
  {
   "cell_type": "code",
   "execution_count": 3,
   "metadata": {},
   "outputs": [],
   "source": [
    "x_train, x_test, y_train, y_test = model_selection.train_test_split(data2, \n",
    "                                                                    data['legitimate'],  \n",
    "                                                                    test_size=0.2, \n",
    "                                                                    random_state=430)"
   ]
  },
  {
   "cell_type": "markdown",
   "metadata": {},
   "source": [
    "Pipeline protocols broken in python 3.7.3 (which is what is running here), so retraining model from scratch using same hyperparamters."
   ]
  },
  {
   "cell_type": "code",
   "execution_count": 4,
   "metadata": {},
   "outputs": [
    {
     "data": {
      "text/plain": [
       "LogisticRegression(C=1.0, class_weight=None, dual=False, fit_intercept=True,\n",
       "                   intercept_scaling=1, l1_ratio=None, max_iter=4000,\n",
       "                   multi_class='auto', n_jobs=None, penalty='l2',\n",
       "                   random_state=None, solver='lbfgs', tol=0.0001, verbose=0,\n",
       "                   warm_start=False)"
      ]
     },
     "execution_count": 4,
     "metadata": {},
     "output_type": "execute_result"
    }
   ],
   "source": [
    "from sklearn import model_selection\n",
    "from sklearn.linear_model import LogisticRegression\n",
    "\n",
    "train, test = model_selection.train_test_split(feats, random_state=43)\n",
    "\n",
    "model = LogisticRegression(solver = 'lbfgs', max_iter = 4000)\n",
    "\n",
    "model.fit(x_train, y_train)"
   ]
  },
  {
   "cell_type": "markdown",
   "metadata": {},
   "source": [
    "Now let's generate predictions and test out our model."
   ]
  },
  {
   "cell_type": "code",
   "execution_count": 5,
   "metadata": {},
   "outputs": [],
   "source": [
    "predictions = model.predict(x_test)"
   ]
  },
  {
   "cell_type": "code",
   "execution_count": 6,
   "metadata": {},
   "outputs": [
    {
     "name": "stdout",
     "output_type": "stream",
     "text": [
      "The predicted value is  1  and the actual value is  0\n"
     ]
    }
   ],
   "source": [
    "# idx of 1 will create incorrect prediction, idx of 0 will create correct prediction\n",
    "idx = 1\n",
    "\n",
    "print(\"The predicted value is \", predictions[idx] , \" and the actual value is \", y_test.iloc[idx])"
   ]
  },
  {
   "cell_type": "markdown",
   "metadata": {},
   "source": [
    "Oh no! Our model seems to have misclassified this instance. However, we don't have much intituion as to why this happened. Are there too many stop words? Lots of punctatuation? Explainability methods exist to offer ways to explore the decision making process of black-box models such as this one. Let's see if we can figure out why this prediction was made."
   ]
  },
  {
   "cell_type": "markdown",
   "metadata": {},
   "source": [
    "Note: not using alibi.explainers since its dependencies conflict with alibi-detect (which is in data drift notebook). Instead, using ```shap``` library, which is what alibi is based off of for this code.__\n",
    "\n",
    "One type of explainability method is a version of [SHAP](https://christophm.github.io/interpretable-ml-book/shap.html), or SHapley Additive exPlanations, where a local prediction is explained by displaying each feature's  contribution to the prediction. The output of a SHAP method is a linear model created for a particular instance."
   ]
  },
  {
   "cell_type": "code",
   "execution_count": 7,
   "metadata": {},
   "outputs": [
    {
     "name": "stderr",
     "output_type": "stream",
     "text": [
      "Using 32000 background data samples could cause slower run times. Consider using shap.sample(data, K) or shap.kmeans(data, K) to summarize the background as K samples.\n"
     ]
    },
    {
     "name": "stdout",
     "output_type": "stream",
     "text": [
      "       index  no_punct  number_words   mean_wl  max_wl  min_wl  pc_10_wl  \\\n",
      "37540  17540         9            31  4.000000      10       1       1.0   \n",
      "13178  13178        24           116  4.491379      12       1       2.0   \n",
      "12293  12293        11            79  4.481013      11       1       2.0   \n",
      "27376   7376        12            70  4.442857      12       1       2.0   \n",
      "6814    6814        20           122  4.418033      13       1       2.0   \n",
      "...      ...       ...           ...       ...     ...     ...       ...   \n",
      "27981   7981        12            80  4.050000      11       1       2.0   \n",
      "6164    6164        13            90  4.300000      13       1       2.0   \n",
      "1127    1127        13            83  4.120482      17       1       2.0   \n",
      "21827   1827        16           119  4.193277      12       1       2.0   \n",
      "22741   2741        11            73  4.246575      10       1       2.0   \n",
      "\n",
      "       pc_90_wl  upper  stop_words  \n",
      "37540       7.0      5          14  \n",
      "13178       8.0     16          61  \n",
      "12293       8.0     10          45  \n",
      "27376       8.0     12          31  \n",
      "6814        7.0     19          67  \n",
      "...         ...    ...         ...  \n",
      "27981       6.1     13          35  \n",
      "6164        8.0     15          50  \n",
      "1127        7.0     10          50  \n",
      "21827       7.0     10          65  \n",
      "22741       7.0     18          27  \n",
      "\n",
      "[32000 rows x 10 columns]\n"
     ]
    },
    {
     "name": "stderr",
     "output_type": "stream",
     "text": [
      "l1_reg=\"auto\" is deprecated and in the next version (v0.29) the behavior will change from a conditional use of AIC to simply \"num_features(10)\"!\n"
     ]
    }
   ],
   "source": [
    "#import alibi\n",
    "#from alibi.explainers import KernelShap\n",
    "import shap\n",
    "\n",
    "explainer = shap.KernelExplainer(model.predict_proba, x_train)\n",
    "shap_values = explainer.shap_values(x_test.iloc[0,:])\n",
    "\n",
    "print(x_train)"
   ]
  },
  {
   "cell_type": "markdown",
   "metadata": {},
   "source": [
    "This output seems like it could be helpful, but doesn't give us a very intuitive explanation of what is happening. We'll use the ```force_plot``` visualization to better understand the local linear model generated by SHAP."
   ]
  },
  {
   "cell_type": "code",
   "execution_count": 12,
   "metadata": {},
   "outputs": [
    {
     "data": {
      "image/png": "[encoded data removed]",
      "text/plain": [
       "<Figure size 1440x216 with 1 Axes>"
      ]
     },
     "metadata": {
      "needs_background": "light"
     },
     "output_type": "display_data"
    }
   ],
   "source": [
    "shap.force_plot(explainer.expected_value[idx], \n",
    "                shap_values[idx], \n",
    "                x_test.iloc[idx,:],\n",
    "               matplotlib=True)"
   ]
  },
  {
   "cell_type": "markdown",
   "metadata": {},
   "source": [
    "We can see from the plot that the `stop_words` and `number_words` variables had the biggest influence on the model's decision to classify this instance as legitimate when it is actually spam. _Explainers are not built to fix problems in models, but rather expose them._ Knowing that our model may weight these variables more heavily than necessary can help us improve the model, if we chose to make changes. We could also look at other explainability methods such as [counterfactuals](https://christophm.github.io/interpretable-ml-book/counterfactual.html) to find out what changes to the input would create the correct classification."
   ]
  }
 ],
 "metadata": {
  "kernelspec": {
   "display_name": "Python 3",
   "language": "python",
   "name": "python3"
  },
  "language_info": {
   "codemirror_mode": {
    "name": "ipython",
    "version": 3
   },
   "file_extension": ".py",
   "mimetype": "text/x-python",
   "name": "python",
   "nbconvert_exporter": "python",
   "pygments_lexer": "ipython3",
   "version": "3.7.3"
  }
 },
 "nbformat": 4,
 "nbformat_minor": 4
}
